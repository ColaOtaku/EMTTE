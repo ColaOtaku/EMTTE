{
 "cells": [
  {
   "cell_type": "code",
   "execution_count": 1,
   "metadata": {},
   "outputs": [],
   "source": [
    "import urllib.request \n",
    "from urllib import parse \n",
    "import json \n",
    "import re\n",
    "import os\n",
    "import pandas as pd\n",
    "import numpy as np\n",
    "from pandas import DataFrame\n",
    "import math\n",
    "import matplotlib.pyplot as plt\n",
    "from geopy.distance import geodesic\n",
    "\n",
    "mykey=u'51cffc64fd38c249e18e2a8265ad06f9'"
   ]
  },
  {
   "cell_type": "code",
   "execution_count": 2,
   "metadata": {},
   "outputs": [],
   "source": [
    "data=pd.read_excel('data/收费站info.xlsx')\n",
    "data.columns=['idx','id','name','lon','lat']"
   ]
  },
  {
   "cell_type": "code",
   "execution_count": 3,
   "metadata": {},
   "outputs": [],
   "source": [
    "mapping={}\n",
    "for i in range(0,457):\n",
    "    mapping[str(data['id'][i])]=i\n",
    "reverse=dict(map(reversed, mapping.items()))"
   ]
  },
  {
   "cell_type": "code",
   "execution_count": 4,
   "metadata": {},
   "outputs": [],
   "source": [
    "tollList=data['id'].tolist()\n",
    "tollList=[str(i) for i in tollList]"
   ]
  },
  {
   "cell_type": "code",
   "execution_count": 5,
   "metadata": {},
   "outputs": [
    {
     "data": {
      "text/html": [
       "<div>\n",
       "<style scoped>\n",
       "    .dataframe tbody tr th:only-of-type {\n",
       "        vertical-align: middle;\n",
       "    }\n",
       "\n",
       "    .dataframe tbody tr th {\n",
       "        vertical-align: top;\n",
       "    }\n",
       "\n",
       "    .dataframe thead th {\n",
       "        text-align: right;\n",
       "    }\n",
       "</style>\n",
       "<table border=\"1\" class=\"dataframe\">\n",
       "  <thead>\n",
       "    <tr style=\"text-align: right;\">\n",
       "      <th></th>\n",
       "      <th>date</th>\n",
       "      <th>start</th>\n",
       "      <th>end</th>\n",
       "      <th>path</th>\n",
       "      <th>index</th>\n",
       "    </tr>\n",
       "  </thead>\n",
       "  <tbody>\n",
       "    <tr>\n",
       "      <th>0</th>\n",
       "      <td>20200901</td>\n",
       "      <td>1623</td>\n",
       "      <td>1629</td>\n",
       "      <td>1623,1633,1625,1627,1629</td>\n",
       "      <td>200000</td>\n",
       "    </tr>\n",
       "    <tr>\n",
       "      <th>1</th>\n",
       "      <td>20200901</td>\n",
       "      <td>3451</td>\n",
       "      <td>3459</td>\n",
       "      <td>3451,3453,3455,3457,3459</td>\n",
       "      <td>200001</td>\n",
       "    </tr>\n",
       "    <tr>\n",
       "      <th>2</th>\n",
       "      <td>20200901</td>\n",
       "      <td>1833</td>\n",
       "      <td>1629</td>\n",
       "      <td>1833,1831,1829,1801,1231,1229,1205,1201,1631,1629</td>\n",
       "      <td>200002</td>\n",
       "    </tr>\n",
       "    <tr>\n",
       "      <th>3</th>\n",
       "      <td>20200901</td>\n",
       "      <td>4013</td>\n",
       "      <td>4015</td>\n",
       "      <td>4013,4015</td>\n",
       "      <td>200003</td>\n",
       "    </tr>\n",
       "    <tr>\n",
       "      <th>4</th>\n",
       "      <td>20200901</td>\n",
       "      <td>1011</td>\n",
       "      <td>1014</td>\n",
       "      <td>1011,1014</td>\n",
       "      <td>200004</td>\n",
       "    </tr>\n",
       "  </tbody>\n",
       "</table>\n",
       "</div>"
      ],
      "text/plain": [
       "       date  start   end                                               path  \\\n",
       "0  20200901   1623  1629                           1623,1633,1625,1627,1629   \n",
       "1  20200901   3451  3459                           3451,3453,3455,3457,3459   \n",
       "2  20200901   1833  1629  1833,1831,1829,1801,1231,1229,1205,1201,1631,1629   \n",
       "3  20200901   4013  4015                                          4013,4015   \n",
       "4  20200901   1011  1014                                          1011,1014   \n",
       "\n",
       "    index  \n",
       "0  200000  \n",
       "1  200001  \n",
       "2  200002  \n",
       "3  200003  \n",
       "4  200004  "
      ]
     },
     "execution_count": 5,
     "metadata": {},
     "output_type": "execute_result"
    }
   ],
   "source": [
    "conn=pd.DataFrame([])\n",
    "FilePath='data/conn/data'\n",
    "for root, dirs, files in os.walk(FilePath):\n",
    "    for file in files:\n",
    "        df=pd.read_csv(os.path.join(root, file),encoding='utf-8')\n",
    "        conn=conn.append(df)\n",
    "conn=conn.dropna()\n",
    "conn.columns=['date','start','end','path','index']\n",
    "conn.head()"
   ]
  },
  {
   "cell_type": "code",
   "execution_count": null,
   "metadata": {},
   "outputs": [],
   "source": [
    "# 构建连通性矩阵A\n",
    "A=np.zeros((457,457))"
   ]
  },
  {
   "cell_type": "code",
   "execution_count": 48,
   "metadata": {},
   "outputs": [
    {
     "data": {
      "text/plain": [
       "array([[ 0., inf, inf, ..., inf, inf, inf],\n",
       "       [inf,  0., inf, ..., inf, inf, inf],\n",
       "       [inf, inf,  0., ..., inf, inf, inf],\n",
       "       ...,\n",
       "       [inf, inf, inf, ...,  0., inf, inf],\n",
       "       [inf, inf, inf, ..., inf,  0., inf],\n",
       "       [inf, inf, inf, ..., inf, inf,  0.]])"
      ]
     },
     "execution_count": 48,
     "metadata": {},
     "output_type": "execute_result"
    }
   ],
   "source": [
    "directdist=np.ones((457,457))*np.inf\n",
    "row, col = np.diag_indices_from(directdist)\n",
    "directdist[row,col] = 0\n",
    "directdist"
   ]
  },
  {
   "cell_type": "code",
   "execution_count": 49,
   "metadata": {},
   "outputs": [],
   "source": [
    "for i in range(457):\n",
    "    for j in range(457):\n",
    "        if A[i,j]>0:\n",
    "            go=data[data['id']==int(reverse[i])]\n",
    "            to=data[data['id']==int(reverse[j])]\n",
    "            directdist[i,j]=geodesic((float(go['lat']),float(go['lon'])), (float(to['lat']),float(to['lon']))).km"
   ]
  },
  {
   "cell_type": "code",
   "execution_count": 41,
   "metadata": {},
   "outputs": [
    {
     "data": {
      "text/plain": [
       "True"
      ]
     },
     "execution_count": 41,
     "metadata": {},
     "output_type": "execute_result"
    }
   ],
   "source": [
    "# (directdist==directdist.T).all()"
   ]
  },
  {
   "cell_type": "code",
   "execution_count": 14,
   "metadata": {},
   "outputs": [],
   "source": [
    "rec=0\n",
    "\n",
    "for record in conn.iterrows():\n",
    "    RecFlag=False\n",
    "    paths = record[1]['path'].split(',')\n",
    "    for i in range(0,len(paths)):\n",
    "        if(not paths[i] in tollList):\n",
    "            continue\n",
    "        else:\n",
    "            if(RecFlag):\n",
    "                A[mapping[rec],mapping[paths[i]]]=1\n",
    "                A[mapping[paths[i]],mapping[rec]]=1\n",
    "                rec=paths[i]\n",
    "            else:\n",
    "                RecFlag = True\n",
    "                rec=paths[i]"
   ]
  },
  {
   "cell_type": "code",
   "execution_count": 50,
   "metadata": {},
   "outputs": [],
   "source": [
    "np.save('data/conn/A',A)\n",
    "np.save('data/conn/dist',directdist)"
   ]
  },
  {
   "cell_type": "code",
   "execution_count": 8,
   "metadata": {},
   "outputs": [],
   "source": [
    "A=np.load('data/conn/A.npy')\n",
    "directdist=np.load('data/conn/dist.npy')"
   ]
  },
  {
   "cell_type": "code",
   "execution_count": 3,
   "metadata": {},
   "outputs": [],
   "source": [
    "Url=('http://restapi.amap.com/v3/geocode/regeo?key={key}&location={location}&radius=1000&extensions=all&roadlevel=0')\n",
    "geo=[]\n",
    "for record in data.iterrows():\n",
    "    myloc=str(record[1]['lon'])+','+str(record[1]['lat'])\n",
    "    myUrl = parse.quote(Url.format(key=mykey,location=myloc),safe=\"/:=&?#+!$,;'@()*[]\")\n",
    "    response = urllib.request.urlopen(myUrl)\n",
    "    data_ = response.read()\n",
    "    jsonData=json.loads(data_)\n",
    "    break\n",
    "#     format_=jsonData['regeocode']['addressComponent']['province'],jsonData['regeocode']['addressComponent']['city'],jsonData['regeocode']['addressComponent']['district']\n",
    "#     geo.append(format_)\n",
    "\n",
    "# location=pd.DataFrame(geo)\n",
    "# location.columns=['prov','city','district']\n",
    "# location\n",
    "\n",
    "# df = pd.merge(data,location,how='inner',left_index=True,right_index=True)"
   ]
  },
  {
   "cell_type": "code",
   "execution_count": 10,
   "metadata": {},
   "outputs": [],
   "source": [
    "# 验证最短路径假设\n",
    "def Floyd(m):\n",
    "    ret=m.copy()\n",
    "    for k in range(len(ret)):        \n",
    "        for i in range(len(ret)):     \n",
    "            for j in range(len(ret)): \n",
    "                if ret[i][j] > ret[i][k] + ret[k][j]:\n",
    "                    ret[i][j] = ret[i][k] + ret[k][j]\n",
    "    return ret"
   ]
  },
  {
   "cell_type": "code",
   "execution_count": 11,
   "metadata": {},
   "outputs": [],
   "source": [
    "A=np.load('data/conn/A.npy') #连通矩阵\n",
    "# dist=A.copy()\n",
    "# np.place(dist,dist==0,np.inf)\n",
    "# row, col = np.diag_indices_from(dist)\n",
    "# dist[row,col] = 0\n",
    "dist=np.load('data/conn/dist.npy')\n",
    "dists=Floyd(dist)"
   ]
  },
  {
   "cell_type": "code",
   "execution_count": 12,
   "metadata": {},
   "outputs": [],
   "source": [
    "np.save('data/conn/dist_direct',dists)"
   ]
  },
  {
   "cell_type": "code",
   "execution_count": 54,
   "metadata": {},
   "outputs": [],
   "source": [
    "result=[]\n",
    "\n",
    "for path in conn['path']:\n",
    "    flag=True\n",
    "    for i in path.split(','):\n",
    "        if i not in mapping.keys():\n",
    "            flag=False\n",
    "    if not flag:\n",
    "        continue\n",
    "    total=0\n",
    "    for i in zip(path.split(',')[:-1],path.split(',')[1:]):\n",
    "        total+=dist[mapping[i[0]],[mapping[i[1]]]]\n",
    "    result.append({'Acutal':float(total),'Shortest':float(dists[mapping[path.split(',')[0]],mapping[path.split(',')[1]]]),'start':path.split(',')[0],'end':path.split(',')[-1]})\n",
    "\n",
    "result=pd.DataFrame(result)\n",
    "    "
   ]
  },
  {
   "cell_type": "code",
   "execution_count": 59,
   "metadata": {},
   "outputs": [],
   "source": [
    "result['Equal']=result['Acutal']==result['Shortest']"
   ]
  },
  {
   "cell_type": "code",
   "execution_count": 61,
   "metadata": {},
   "outputs": [
    {
     "data": {
      "text/plain": [
       "count     248637\n",
       "unique         2\n",
       "top        False\n",
       "freq      138899\n",
       "Name: Equal, dtype: object"
      ]
     },
     "execution_count": 61,
     "metadata": {},
     "output_type": "execute_result"
    }
   ],
   "source": [
    "result['Equal'].describe()\n",
    "#最短距离假设误差大！"
   ]
  },
  {
   "cell_type": "code",
   "execution_count": 62,
   "metadata": {},
   "outputs": [
    {
     "data": {
      "text/html": [
       "<div>\n",
       "<style scoped>\n",
       "    .dataframe tbody tr th:only-of-type {\n",
       "        vertical-align: middle;\n",
       "    }\n",
       "\n",
       "    .dataframe tbody tr th {\n",
       "        vertical-align: top;\n",
       "    }\n",
       "\n",
       "    .dataframe thead th {\n",
       "        text-align: right;\n",
       "    }\n",
       "</style>\n",
       "<table border=\"1\" class=\"dataframe\">\n",
       "  <thead>\n",
       "    <tr style=\"text-align: right;\">\n",
       "      <th></th>\n",
       "      <th>Acutal</th>\n",
       "      <th>Shortest</th>\n",
       "      <th>start</th>\n",
       "      <th>end</th>\n",
       "      <th>Equal</th>\n",
       "    </tr>\n",
       "  </thead>\n",
       "  <tbody>\n",
       "    <tr>\n",
       "      <th>0</th>\n",
       "      <td>32.749057</td>\n",
       "      <td>14.264354</td>\n",
       "      <td>3451</td>\n",
       "      <td>3459</td>\n",
       "      <td>False</td>\n",
       "    </tr>\n",
       "    <tr>\n",
       "      <th>1</th>\n",
       "      <td>6.019255</td>\n",
       "      <td>6.019255</td>\n",
       "      <td>4013</td>\n",
       "      <td>4015</td>\n",
       "      <td>True</td>\n",
       "    </tr>\n",
       "    <tr>\n",
       "      <th>2</th>\n",
       "      <td>0.463268</td>\n",
       "      <td>0.463268</td>\n",
       "      <td>1011</td>\n",
       "      <td>1014</td>\n",
       "      <td>True</td>\n",
       "    </tr>\n",
       "    <tr>\n",
       "      <th>3</th>\n",
       "      <td>42.585615</td>\n",
       "      <td>16.712744</td>\n",
       "      <td>2027</td>\n",
       "      <td>2019</td>\n",
       "      <td>False</td>\n",
       "    </tr>\n",
       "    <tr>\n",
       "      <th>4</th>\n",
       "      <td>23.314859</td>\n",
       "      <td>23.314859</td>\n",
       "      <td>1223</td>\n",
       "      <td>1225</td>\n",
       "      <td>True</td>\n",
       "    </tr>\n",
       "    <tr>\n",
       "      <th>...</th>\n",
       "      <td>...</td>\n",
       "      <td>...</td>\n",
       "      <td>...</td>\n",
       "      <td>...</td>\n",
       "      <td>...</td>\n",
       "    </tr>\n",
       "    <tr>\n",
       "      <th>248632</th>\n",
       "      <td>15.147661</td>\n",
       "      <td>15.147661</td>\n",
       "      <td>1119</td>\n",
       "      <td>1121</td>\n",
       "      <td>True</td>\n",
       "    </tr>\n",
       "    <tr>\n",
       "      <th>248633</th>\n",
       "      <td>15.147661</td>\n",
       "      <td>15.147661</td>\n",
       "      <td>1119</td>\n",
       "      <td>1121</td>\n",
       "      <td>True</td>\n",
       "    </tr>\n",
       "    <tr>\n",
       "      <th>248634</th>\n",
       "      <td>25.329693</td>\n",
       "      <td>9.454249</td>\n",
       "      <td>1255</td>\n",
       "      <td>1537</td>\n",
       "      <td>False</td>\n",
       "    </tr>\n",
       "    <tr>\n",
       "      <th>248635</th>\n",
       "      <td>8.324320</td>\n",
       "      <td>8.324320</td>\n",
       "      <td>4315</td>\n",
       "      <td>4317</td>\n",
       "      <td>True</td>\n",
       "    </tr>\n",
       "    <tr>\n",
       "      <th>248636</th>\n",
       "      <td>17.153577</td>\n",
       "      <td>8.324320</td>\n",
       "      <td>4317</td>\n",
       "      <td>4313</td>\n",
       "      <td>False</td>\n",
       "    </tr>\n",
       "  </tbody>\n",
       "</table>\n",
       "<p>248637 rows × 5 columns</p>\n",
       "</div>"
      ],
      "text/plain": [
       "           Acutal   Shortest start   end  Equal\n",
       "0       32.749057  14.264354  3451  3459  False\n",
       "1        6.019255   6.019255  4013  4015   True\n",
       "2        0.463268   0.463268  1011  1014   True\n",
       "3       42.585615  16.712744  2027  2019  False\n",
       "4       23.314859  23.314859  1223  1225   True\n",
       "...           ...        ...   ...   ...    ...\n",
       "248632  15.147661  15.147661  1119  1121   True\n",
       "248633  15.147661  15.147661  1119  1121   True\n",
       "248634  25.329693   9.454249  1255  1537  False\n",
       "248635   8.324320   8.324320  4315  4317   True\n",
       "248636  17.153577   8.324320  4317  4313  False\n",
       "\n",
       "[248637 rows x 5 columns]"
      ]
     },
     "execution_count": 62,
     "metadata": {},
     "output_type": "execute_result"
    }
   ],
   "source": [
    "result"
   ]
  }
 ],
 "metadata": {
  "kernelspec": {
   "display_name": "Python 3",
   "language": "python",
   "name": "python3"
  },
  "language_info": {
   "codemirror_mode": {
    "name": "ipython",
    "version": 3
   },
   "file_extension": ".py",
   "mimetype": "text/x-python",
   "name": "python",
   "nbconvert_exporter": "python",
   "pygments_lexer": "ipython3",
   "version": "3.8.5"
  }
 },
 "nbformat": 4,
 "nbformat_minor": 4
}
